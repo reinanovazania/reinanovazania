{
  "nbformat": 4,
  "nbformat_minor": 0,
  "metadata": {
    "colab": {
      "provenance": [],
      "authorship_tag": "ABX9TyP+WOz7rQ7QSrOGi5zFDAyy",
      "include_colab_link": true
    },
    "kernelspec": {
      "name": "python3",
      "display_name": "Python 3"
    },
    "language_info": {
      "name": "python"
    }
  },
  "cells": [
    {
      "cell_type": "markdown",
      "metadata": {
        "id": "view-in-github",
        "colab_type": "text"
      },
      "source": [
        "<a href=\"https://colab.research.google.com/github/reinanovazania/reinanovazania/blob/main/mini-batch_gradient_descent.ipynb\" target=\"_parent\"><img src=\"https://colab.research.google.com/assets/colab-badge.svg\" alt=\"Open In Colab\"/></a>"
      ]
    },
    {
      "cell_type": "code",
      "execution_count": 28,
      "metadata": {
        "colab": {
          "base_uri": "https://localhost:8080/"
        },
        "id": "MkhSK7TBDWQO",
        "outputId": "e6f2c355-9581-4d97-87ad-d8f285c0428c"
      },
      "outputs": [
        {
          "output_type": "stream",
          "name": "stdout",
          "text": [
            "[[4.22194172]\n",
            " [2.64911058]]\n"
          ]
        }
      ],
      "source": [
        "import numpy as np # numpy is for vector and mathematics operations\n",
        "import matplotlib.pyplot as plt # matplotlib is for plotting\n",
        "from sklearn.datasets import make_regression # scikitlearn is for machine learning related tools\n",
        "\n",
        "# Mini-Batch Gradient Descent\n",
        "n_iter = 10 # the number of iterations \n",
        "batch_size = 30 # batch size \n",
        "\n",
        "for it in range(n_iter): # loop iterations\n",
        "    indices = np.random.permutation(n) # generate index by random permutation\n",
        "    X_mb = X[indices] # take samples from X whose indexes are variable 'indices'\n",
        "    y_mb = y[indices] # take samples from y whose indexes are variable 'indices'\n",
        "    for i in range(0,n,batch_size):\n",
        "        X_i = X_mb[i:i+batch_size] # take samples with the size batch_size of X_mb at index i\n",
        "        y_i = y_mb[i:i+batch_size] # take samples with the size batch_size of y_mb at index i\n",
        "        length_X_i = len(X_i)\n",
        "        X_i = np.c_[np.ones(len(X_i)),X_i] # make a matrix with dimension length_X_i x 2          \n",
        "        prediction = np.dot(X_i,theta) # make prediction\n",
        "        theta = theta -(1/batch_size)*alpha*( X_i.T.dot((prediction - y_i))) # update gradient's value\n",
        "        # cost += cal_cost(theta,X_i,y_i)\n",
        "        # cost_history[it]  = cost\n",
        "print (theta)"
      ]
    }
  ]
}