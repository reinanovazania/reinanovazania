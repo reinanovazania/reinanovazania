{
  "nbformat": 4,
  "nbformat_minor": 0,
  "metadata": {
    "colab": {
      "provenance": [],
      "authorship_tag": "ABX9TyPGMdQMyHsOACKtofQKN9DD",
      "include_colab_link": true
    },
    "kernelspec": {
      "name": "python3",
      "display_name": "Python 3"
    },
    "language_info": {
      "name": "python"
    }
  },
  "cells": [
    {
      "cell_type": "markdown",
      "metadata": {
        "id": "view-in-github",
        "colab_type": "text"
      },
      "source": [
        "<a href=\"https://colab.research.google.com/github/reinanovazania/reinanovazania/blob/main/chapter_4_exercise_newton.ipynb\" target=\"_parent\"><img src=\"https://colab.research.google.com/assets/colab-badge.svg\" alt=\"Open In Colab\"/></a>"
      ]
    },
    {
      "cell_type": "code",
      "execution_count": null,
      "metadata": {
        "id": "oh2J3HBLj_q0"
      },
      "outputs": [],
      "source": [
        "# import basic librariees and autograd wrapped numpy\n",
        "import sys\n",
        "sys.path.append('../')\n",
        "import autograd.numpy as np\n",
        "import matplotlib.pyplot as plt\n",
        "\n",
        "# this is needed to compensate for matplotlib notebook's tendancy to blow up images when plotted inline\n",
        "%matplotlib notebook\n",
        "from matplotlib import rcParams\n",
        "rcParams['figure.autolayout'] = True\n",
        "\n",
        "# using an automatic differentiator - like the one imported via the statement below - makes coding up gradient descent a breeze\n",
        "from autograd import grad \n",
        "from autograd import hessian\n",
        "\n",
        "# newtons method function - inputs: g (input function), max_its (maximum number of iterations), w (initialization)\n",
        "def newtons_method(g,max_its,w,**kwargs):\n",
        "    # compute gradient module using autograd\n",
        "    gradient = grad(g)\n",
        "    hess = hessian(g)\n",
        "    \n",
        "    # set numericxal stability parameter / regularization parameter\n",
        "    epsilon = 10**(-10)\n",
        "    if 'epsilon' in kwargs:\n",
        "        epsilon = kwargs['epsilon']\n",
        "\n",
        "    # run the newtons method loop\n",
        "    weight_history = [w]           # container for weight history\n",
        "    cost_history = [g(w)]          # container for corresponding cost function history\n",
        "    for k in range(max_its):\n",
        "        # evaluate the gradient and hessian\n",
        "        ## TO DO \n",
        "\n",
        "        # reshape hessian to square matrix for numpy linalg functionality\n",
        "        ## TO DO\n",
        "        \n",
        "        # solve second order system system for weight update\n",
        "        A = hess_eval + epsilon*np.eye(w.size)\n",
        "        b = grad_eval\n",
        "        w = np.linalg.solve(A,np.dot(A,w) - b)\n",
        "        \n",
        "        # record weight and cost\n",
        "        weight_history.append(w)\n",
        "        cost_history.append(g(w))\n",
        "    return weight_history,cost_history"
      ]
    }
  ]
}