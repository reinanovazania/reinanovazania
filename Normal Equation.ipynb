{
  "nbformat": 4,
  "nbformat_minor": 0,
  "metadata": {
    "colab": {
      "provenance": [],
      "authorship_tag": "ABX9TyMWHD+PHD4PItveEjguxppP",
      "include_colab_link": true
    },
    "kernelspec": {
      "name": "python3",
      "display_name": "Python 3"
    },
    "language_info": {
      "name": "python"
    }
  },
  "cells": [
    {
      "cell_type": "markdown",
      "metadata": {
        "id": "view-in-github",
        "colab_type": "text"
      },
      "source": [
        "<a href=\"https://colab.research.google.com/github/reinanovazania/reinanovazania/blob/main/Normal%20Equation.ipynb\" target=\"_parent\"><img src=\"https://colab.research.google.com/assets/colab-badge.svg\" alt=\"Open In Colab\"/></a>"
      ]
    },
    {
      "cell_type": "code",
      "execution_count": 11,
      "metadata": {
        "colab": {
          "base_uri": "https://localhost:8080/"
        },
        "id": "MkhSK7TBDWQO",
        "outputId": "853714c8-0314-4a57-e411-e5fca93efbfe"
      },
      "outputs": [
        {
          "output_type": "stream",
          "name": "stdout",
          "text": [
            "Theta is:  [[3.854216  ]\n",
            " [2.98238374]]\n",
            "Y prediction is:  [[3.854216  ]\n",
            " [9.81898349]]\n"
          ]
        }
      ],
      "source": [
        "import numpy as np # numpy is for vector and mathematics operations\n",
        "import matplotlib.pyplot as plt # matplotlib is for plotting\n",
        "from sklearn.datasets import make_regression # scikitlearn is for machine learning related tools\n",
        "# Normal Equation \n",
        "X_b = np.c_[np.ones((100, 1)), X] # set x_0 = 1 according to the linear regression. Then, the matrix dimension of X_b is n x 2. np.c_ is a concantenate function from numpy, which combines two vectors.\n",
        "theta_best = np.linalg.inv(X_b.T.dot(X_b)).dot(X_b.T).dot(y) # Find \\theta value using normal equation\n",
        "print(\"Theta is: \", theta_best)\n",
        "X_new = np.array([[0], [2]]) # generate a vector sample that has 0 and 2 elements\n",
        "X_new_b = np.c_[np.ones((2, 1)), X_new] # set x_0 = 1 according to the linear regression. Then, the matrix dimension of X_b is 2 x 2 \n",
        "y_predict = X_new_b.dot(theta_best) # y = X.\\theta_{best}. We want to see the prediction.\n",
        "print(\"Y prediction is: \", y_predict) "
      ]
    }
  ]
}