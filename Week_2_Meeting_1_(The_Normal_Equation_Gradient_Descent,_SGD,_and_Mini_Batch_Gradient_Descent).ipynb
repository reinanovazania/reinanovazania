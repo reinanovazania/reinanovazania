{
  "nbformat": 4,
  "nbformat_minor": 0,
  "metadata": {
    "colab": {
      "provenance": [],
      "include_colab_link": true
    },
    "kernelspec": {
      "name": "python3",
      "display_name": "Python 3"
    },
    "language_info": {
      "name": "python"
    }
  },
  "cells": [
    {
      "cell_type": "markdown",
      "metadata": {
        "id": "view-in-github",
        "colab_type": "text"
      },
      "source": [
        "<a href=\"https://colab.research.google.com/github/reinanovazania/reinanovazania/blob/main/Week_2_Meeting_1_(The_Normal_Equation_Gradient_Descent%2C_SGD%2C_and_Mini_Batch_Gradient_Descent).ipynb\" target=\"_parent\"><img src=\"https://colab.research.google.com/assets/colab-badge.svg\" alt=\"Open In Colab\"/></a>"
      ]
    },
    {
      "cell_type": "markdown",
      "metadata": {
        "id": "cCEdZlO5FYIU"
      },
      "source": [
        "## Importing packages that are needed in the program"
      ]
    },
    {
      "cell_type": "code",
      "metadata": {
        "id": "RrBWBQqVRmCn"
      },
      "source": [
        "  import numpy as np # numpy is for vector and mathematics operations\n",
        "  import matplotlib.pyplot as plt # matplotlib is for plotting\n",
        "  from sklearn.datasets import make_regression # scikitlearn is for machine learning related tools"
      ],
      "execution_count": null,
      "outputs": []
    },
    {
      "cell_type": "markdown",
      "metadata": {
        "id": "2odaVcSUxP4D"
      },
      "source": [
        "# In this Jupyter Notebook, we demonstrate how to find gradient through normal equation and gradient descent"
      ]
    },
    {
      "cell_type": "markdown",
      "metadata": {
        "id": "uYoMjQk1aCsl"
      },
      "source": [
        "## First, we create data set."
      ]
    },
    {
      "cell_type": "code",
      "metadata": {
        "id": "mBtixSNtw7l2"
      },
      "source": [
        "# Create data set.\n",
        "n = 100 # The number of data sets\n",
        "X = 2 * np.random.rand(n, 1) # Generate n x 1 random variable according to uniform distribution (0,1)\n",
        "y = 4 + 3 * X + np.random.randn(n, 1) # Plot y added by Gaussian noise with mean 0 and variance 1 "
      ],
      "execution_count": null,
      "outputs": []
    },
    {
      "cell_type": "markdown",
      "metadata": {
        "id": "d2KwjXqHxl1s"
      },
      "source": [
        "## Then, we plot the data sets"
      ]
    },
    {
      "cell_type": "code",
      "metadata": {
        "colab": {
          "base_uri": "https://localhost:8080/",
          "height": 295
        },
        "id": "wtmmyG5DOaWH",
        "outputId": "0f5b92f3-58a0-4d48-838c-893dc74f5ec2"
      },
      "source": [
        "# Plot the generated data set.\n",
        "plt.plot(X,y,'b.') # Plot X and Y\n",
        "plt.xlabel(\"Input\") # Give label X-axis\n",
        "plt.ylabel(\"Output\") # Give label Y-axis\n",
        "plt.title('Data with Noise') # Give title\n",
        "plt.show() # show the plot"
      ],
      "execution_count": null,
      "outputs": [
        {
          "output_type": "display_data",
          "data": {
            "image/png": "[encoded data removed]",
            "text/plain": [
              "<Figure size 432x288 with 1 Axes>"
            ]
          },
          "metadata": {
            "needs_background": "light"
          }
        }
      ]
    },
    {
      "cell_type": "markdown",
      "metadata": {
        "id": "1GWtouq78hUB"
      },
      "source": [
        "# Normal Equation "
      ]
    },
    {
      "cell_type": "markdown",
      "metadata": {
        "id": "x99fbaO0aX_n"
      },
      "source": [
        "## We calculate the $\\theta$ parameter"
      ]
    },
    {
      "cell_type": "code",
      "metadata": {
        "colab": {
          "base_uri": "https://localhost:8080/"
        },
        "id": "JdaZmIbEOdOV",
        "outputId": "62b41c0d-358d-4196-ace6-aed52215bdc3"
      },
      "source": [
        "X_b = np.c_[np.ones((100, 1)), X] # set x_0 = 1 according to the linear regression. Then, the matrix dimension of X_b is n x 2. np.c_ is a concantenate function from numpy, which combines two vectors.\n",
        "theta_best = np.linalg.inv(X_b.T.dot(X_b)).dot(X_b.T).dot(y) # Find \\theta value using normal equation\n",
        "print(\"Theta is: \", theta_best)"
      ],
      "execution_count": null,
      "outputs": [
        {
          "output_type": "stream",
          "name": "stdout",
          "text": [
            "Theta is:  [[4.08151598]\n",
            " [2.96662942]]\n"
          ]
        }
      ]
    },
    {
      "cell_type": "markdown",
      "metadata": {
        "id": "JtM8UfJ3cVy6"
      },
      "source": [
        "## Prediction"
      ]
    },
    {
      "cell_type": "code",
      "metadata": {
        "colab": {
          "base_uri": "https://localhost:8080/"
        },
        "id": "cpcfom2xZ5k6",
        "outputId": "cb292e88-9a22-4943-edac-a21a594057d7"
      },
      "source": [
        "X_new = np.array([[0], [2]]) # generate a vector sample that has 0 and 2 elements\n",
        "X_new_b = np.c_[np.ones((2, 1)), X_new] # set x_0 = 1 according to the linear regression. Then, the matrix dimension of X_b is 2 x 2 \n",
        "y_predict = X_new_b.dot(theta_best) # y = X.\\theta_{best}. We want to see the prediction.\n",
        "print(\"Y prediction is: \", y_predict) "
      ],
      "execution_count": null,
      "outputs": [
        {
          "output_type": "stream",
          "name": "stdout",
          "text": [
            "Y prediction is:  [[ 4.08151598]\n",
            " [10.01477483]]\n"
          ]
        }
      ]
    },
    {
      "cell_type": "markdown",
      "metadata": {
        "id": "C9odcaPvdkt1"
      },
      "source": [
        "## Plotting the data set and its prediction"
      ]
    },
    {
      "cell_type": "code",
      "metadata": {
        "colab": {
          "base_uri": "https://localhost:8080/",
          "height": 279
        },
        "id": "BI8DGZXecc7h",
        "outputId": "97539947-c728-4a73-94d7-abcf482cd998"
      },
      "source": [
        "plt.plot(X_new, y_predict, \"r-\", label = \"Predictions\") # red line is from the linear regression\n",
        "plt.plot(X, y, \"b.\")\n",
        "plt.legend(loc=\"upper left\")\n",
        "plt.xlabel(\"Input\")\n",
        "plt.ylabel(\"Output\")\n",
        "plt.axis([0, 2, 0, 15])\n",
        "plt.show()"
      ],
      "execution_count": null,
      "outputs": [
        {
          "output_type": "display_data",
          "data": {
            "image/png": "[encoded data removed]",
            "text/plain": [
              "<Figure size 432x288 with 1 Axes>"
            ]
          },
          "metadata": {
            "needs_background": "light"
          }
        }
      ]
    },
    {
      "cell_type": "markdown",
      "metadata": {
        "id": "TfWsdUIe8zNr"
      },
      "source": [
        "# Gradient Descent"
      ]
    },
    {
      "cell_type": "markdown",
      "metadata": {
        "id": "iyZReJ4Bwmto"
      },
      "source": [
        "## Initialization"
      ]
    },
    {
      "cell_type": "code",
      "metadata": {
        "id": "qY9HEtD5dMnl"
      },
      "source": [
        "alpha = 0.1 # learning rate\n",
        "n_iterations = 1000 # the number of iterations\n",
        "theta = np.random.randn(2,1) # random initialization for \\theta."
      ],
      "execution_count": null,
      "outputs": []
    },
    {
      "cell_type": "markdown",
      "metadata": {
        "id": "x_RisuSZE55S"
      },
      "source": [
        "## Gradient Descent Iteration"
      ]
    },
    {
      "cell_type": "code",
      "metadata": {
        "id": "Fw23KzZ_7mGz",
        "colab": {
          "base_uri": "https://localhost:8080/",
          "height": 217
        },
        "outputId": "4cae4f5c-1ad1-4d0a-d519-509bbcdcf974"
      },
      "source": [
        "for iteration in range(n_iterations): # iteration loop with duration n_iterations\n",
        "  gradients = 2/n * X_b.T.dot(X_b.dot(theta) - y) # computing gradients\n",
        "  # gradients = 2/n * (theta.T.dot(X_b.T)- y.T).dot(X_b) # alternative gradients calculation  \n",
        "  theta = theta - alpha * gradients # update the gradient's value"
      ],
      "execution_count": null,
      "outputs": [
        {
          "output_type": "error",
          "ename": "NameError",
          "evalue": "ignored",
          "traceback": [
            "\u001b[0;31m---------------------------------------------------------------------------\u001b[0m",
            "\u001b[0;31mNameError\u001b[0m                                 Traceback (most recent call last)",
            "\u001b[0;32m<ipython-input-1-a7cf56ce67ba>\u001b[0m in \u001b[0;36m<module>\u001b[0;34m\u001b[0m\n\u001b[0;32m----> 1\u001b[0;31m \u001b[0;32mfor\u001b[0m \u001b[0miteration\u001b[0m \u001b[0;32min\u001b[0m \u001b[0mrange\u001b[0m\u001b[0;34m(\u001b[0m\u001b[0mn_iterations\u001b[0m\u001b[0;34m)\u001b[0m\u001b[0;34m:\u001b[0m \u001b[0;31m# iteration loop with duration n_iterations\u001b[0m\u001b[0;34m\u001b[0m\u001b[0;34m\u001b[0m\u001b[0m\n\u001b[0m\u001b[1;32m      2\u001b[0m   \u001b[0mgradients\u001b[0m \u001b[0;34m=\u001b[0m \u001b[0;36m2\u001b[0m\u001b[0;34m/\u001b[0m\u001b[0mn\u001b[0m \u001b[0;34m*\u001b[0m \u001b[0mX_b\u001b[0m\u001b[0;34m.\u001b[0m\u001b[0mT\u001b[0m\u001b[0;34m.\u001b[0m\u001b[0mdot\u001b[0m\u001b[0;34m(\u001b[0m\u001b[0mX_b\u001b[0m\u001b[0;34m.\u001b[0m\u001b[0mdot\u001b[0m\u001b[0;34m(\u001b[0m\u001b[0mtheta\u001b[0m\u001b[0;34m)\u001b[0m \u001b[0;34m-\u001b[0m \u001b[0my\u001b[0m\u001b[0;34m)\u001b[0m \u001b[0;31m# computing gradients\u001b[0m\u001b[0;34m\u001b[0m\u001b[0;34m\u001b[0m\u001b[0m\n\u001b[1;32m      3\u001b[0m   \u001b[0;31m# gradients = 2/n * (theta.T.dot(X_b.T)- y.T).dot(X_b) # alternative gradients calculation\u001b[0m\u001b[0;34m\u001b[0m\u001b[0;34m\u001b[0m\u001b[0;34m\u001b[0m\u001b[0m\n\u001b[1;32m      4\u001b[0m   \u001b[0mtheta\u001b[0m \u001b[0;34m=\u001b[0m \u001b[0mtheta\u001b[0m \u001b[0;34m-\u001b[0m \u001b[0malpha\u001b[0m \u001b[0;34m*\u001b[0m \u001b[0mgradients\u001b[0m \u001b[0;31m# update the gradient's value\u001b[0m\u001b[0;34m\u001b[0m\u001b[0;34m\u001b[0m\u001b[0m\n",
            "\u001b[0;31mNameError\u001b[0m: name 'n_iterations' is not defined"
          ]
        }
      ]
    },
    {
      "cell_type": "code",
      "metadata": {
        "colab": {
          "base_uri": "https://localhost:8080/"
        },
        "id": "l6sXplPtFCAX",
        "outputId": "6fd9d082-e3e8-4932-be64-bc6309fb6a24"
      },
      "source": [
        "theta"
      ],
      "execution_count": null,
      "outputs": [
        {
          "output_type": "execute_result",
          "data": {
            "text/plain": [
              "array([[4.08151598],\n",
              "       [2.96662942]])"
            ]
          },
          "metadata": {},
          "execution_count": 35
        }
      ]
    },
    {
      "cell_type": "markdown",
      "metadata": {
        "id": "G4JMBJYdUQEt"
      },
      "source": [
        "# Stochastic Gradient Descent (SGD)"
      ]
    },
    {
      "cell_type": "markdown",
      "metadata": {
        "id": "K0Rc4XESwJWo"
      },
      "source": [
        "## Initialization"
      ]
    },
    {
      "cell_type": "code",
      "metadata": {
        "id": "r7QrW1tgFIJF"
      },
      "source": [
        "n_epochs = 50 # the number of epochs\n",
        "t0, t1 = 5, 50 # learning schedule hyperparameters\n",
        "theta = np.random.randn(2,1) # random initialization for \\theta\n",
        "# n_sample = 5"
      ],
      "execution_count": null,
      "outputs": []
    },
    {
      "cell_type": "markdown",
      "metadata": {
        "id": "CTCxl-MSwVd5"
      },
      "source": [
        "## Defining the *learning schedule* function"
      ]
    },
    {
      "cell_type": "code",
      "metadata": {
        "id": "BHezkaNmwUXr"
      },
      "source": [
        "# learning schedule function\n",
        "def learning_schedule(t):\n",
        "    return t0 / (t + t1)"
      ],
      "execution_count": null,
      "outputs": []
    },
    {
      "cell_type": "markdown",
      "metadata": {
        "id": "_o5MGMKhwlK3"
      },
      "source": [
        "\n",
        "\n",
        "```\n",
        "# This is formatted as code\n",
        "```\n",
        "\n",
        "## SGD Iteration"
      ]
    },
    {
      "cell_type": "code",
      "metadata": {
        "id": "7JOF2nN2wc9Z"
      },
      "source": [
        "for epoch in range(n_epochs):\n",
        "  for i in range(n):\n",
        "    random_index = np.random.randint(n) # generate random integer number from 0 to 99. This is done to select one of the indexes in input and output samples, which have 100 samples. Remember, in python, index is subtracted by one.  \n",
        "    xi = X_b[random_index:random_index+1] #take one sample of x at index 'random_index'\n",
        "    yi = y[random_index:random_index+1] # take one sample of y at index 'random_index'\n",
        "    gradients = 2 * xi.T.dot(xi.dot(theta) - yi) # calculate the gradient's value\n",
        "    eta = learning_schedule(epoch * n+ i) # update learning rate\n",
        "    theta = theta - eta * gradients # update the gradient's value"
      ],
      "execution_count": null,
      "outputs": []
    },
    {
      "cell_type": "code",
      "metadata": {
        "colab": {
          "base_uri": "https://localhost:8080/"
        },
        "id": "w5raIvOMwwEj",
        "outputId": "19cf301c-748e-49bb-c741-71ccacf5a57c"
      },
      "source": [
        "theta"
      ],
      "execution_count": null,
      "outputs": [
        {
          "output_type": "execute_result",
          "data": {
            "text/plain": [
              "array([[4.15063331],\n",
              "       [2.903445  ]])"
            ]
          },
          "metadata": {},
          "execution_count": 39
        }
      ]
    },
    {
      "cell_type": "markdown",
      "metadata": {
        "id": "GGTnGNVpILPz"
      },
      "source": [
        "# Mini-Batch Gradient Descent"
      ]
    },
    {
      "cell_type": "markdown",
      "metadata": {
        "id": "ZLlTklFjRBRL"
      },
      "source": [
        "## Initialize Parameter"
      ]
    },
    {
      "cell_type": "code",
      "metadata": {
        "id": "bquRwpVS4mb3"
      },
      "source": [
        "n_iter = 10 # the number of iterations \n",
        "batch_size = 30 # batch size "
      ],
      "execution_count": null,
      "outputs": []
    },
    {
      "cell_type": "markdown",
      "metadata": {
        "id": "BKngrUpE-r8D"
      },
      "source": [
        "## Mini-Batch Gradient Descent Iteration"
      ]
    },
    {
      "cell_type": "code",
      "metadata": {
        "id": "37fry8GmRIcr"
      },
      "source": [
        "for it in range(n_iter): # loop iterations\n",
        "    indices = np.random.permutation(n) # generate index by random permutation\n",
        "    X_mb = X[indices] # take samples from X whose indexes are variable 'indices'\n",
        "    y_mb = y[indices] # take samples from y whose indexes are variable 'indices'\n",
        "    for i in range(0,n,batch_size):\n",
        "        X_i = X_mb[i:i+batch_size] # take samples with the size batch_size of X_mb at index i\n",
        "        y_i = y_mb[i:i+batch_size] # take samples with the size batch_size of y_mb at index i\n",
        "        length_X_i = len(X_i)\n",
        "        X_i = np.c_[np.ones(len(X_i)),X_i] # make a matrix with dimension length_X_i x 2          \n",
        "        prediction = np.dot(X_i,theta) # make prediction\n",
        "        theta = theta -(1/batch_size)*alpha*( X_i.T.dot((prediction - y_i))) # update gradient's value\n",
        "        # cost += cal_cost(theta,X_i,y_i)\n",
        "        # cost_history[it]  = cost"
      ],
      "execution_count": null,
      "outputs": []
    },
    {
      "cell_type": "code",
      "metadata": {
        "colab": {
          "base_uri": "https://localhost:8080/"
        },
        "id": "a6W3Ii8l3bj_",
        "outputId": "b084a4d1-fbd7-4e4b-cce6-e186bd7daace"
      },
      "source": [
        "theta"
      ],
      "execution_count": null,
      "outputs": [
        {
          "output_type": "execute_result",
          "data": {
            "text/plain": [
              "array([[4.06454567],\n",
              "       [2.94927477]])"
            ]
          },
          "metadata": {},
          "execution_count": 56
        }
      ]
    },
    {
      "cell_type": "code",
      "metadata": {
        "id": "HTN1T5E43w_E"
      },
      "source": [],
      "execution_count": null,
      "outputs": []
    }
  ]
}