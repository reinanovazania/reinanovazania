{
  "nbformat": 4,
  "nbformat_minor": 0,
  "metadata": {
    "colab": {
      "provenance": [],
      "authorship_tag": "ABX9TyPHt0ackclxQ9Y98oVbGbgU",
      "include_colab_link": true
    },
    "kernelspec": {
      "name": "python3",
      "display_name": "Python 3"
    },
    "language_info": {
      "name": "python"
    }
  },
  "cells": [
    {
      "cell_type": "markdown",
      "metadata": {
        "id": "view-in-github",
        "colab_type": "text"
      },
      "source": [
        "<a href=\"https://colab.research.google.com/github/reinanovazania/reinanovazania/blob/main/stochastic_gradient_descent.ipynb\" target=\"_parent\"><img src=\"https://colab.research.google.com/assets/colab-badge.svg\" alt=\"Open In Colab\"/></a>"
      ]
    },
    {
      "cell_type": "code",
      "execution_count": 27,
      "metadata": {
        "colab": {
          "base_uri": "https://localhost:8080/"
        },
        "id": "MkhSK7TBDWQO",
        "outputId": "e6dc513e-b4ee-4450-8fed-4a279d61bae3"
      },
      "outputs": [
        {
          "output_type": "stream",
          "name": "stdout",
          "text": [
            "[[ 0.65482683]\n",
            " [-1.90174104]]\n"
          ]
        }
      ],
      "source": [
        "import numpy as np # numpy is for vector and mathematics operations\n",
        "import matplotlib.pyplot as plt # matplotlib is for plotting\n",
        "from sklearn.datasets import make_regression # scikitlearn is for machine learning related tools\n",
        "\n",
        "# Stochastic Gradient Descent (SGD)\n",
        "n_epochs = 50 # the number of epochs\n",
        "t0, t1 = 5, 50 # learning schedule hyperparameters\n",
        "theta = np.random.randn(2,1) # random initialization for \\theta\n",
        "# n_sample = 5\n",
        "\n",
        "# learning schedule function\n",
        "def learning_schedule(t):\n",
        "    return t0 / (t + t1)\n",
        "\n",
        "    ## SGD Iteration\n",
        "\n",
        "    for epoch in range(n_epochs):\n",
        "      random_index = np.random.randint(n) # generate random integer number from 0 to 99. This is done to select one of the indexes in input and output samples, which have 100 samples. Remember, in python, index is subtracted by one.  \n",
        "    xi = X_b[random_index:random_index+1] #take one sample of x at index 'random_index'\n",
        "    yi = y[random_index:random_index+1] # take one sample of y at index 'random_index'\n",
        "    gradients = 2 * xi.T.dot(xi.dot(theta) - yi) # calculate the gradient's value\n",
        "    eta = learning_schedule(epoch * n+ i) # update learning rate\n",
        "    theta = theta - eta * gradients # update the gradient's value\n",
        "print (theta)"
      ]
    }
  ]
}