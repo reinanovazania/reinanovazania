{
  "nbformat": 4,
  "nbformat_minor": 0,
  "metadata": {
    "colab": {
      "provenance": [],
      "collapsed_sections": [],
      "authorship_tag": "ABX9TyOCLosp1debGofuhlAGC5Ej",
      "include_colab_link": true
    },
    "kernelspec": {
      "name": "python3",
      "display_name": "Python 3"
    },
    "language_info": {
      "name": "python"
    }
  },
  "cells": [
    {
      "cell_type": "markdown",
      "metadata": {
        "id": "view-in-github",
        "colab_type": "text"
      },
      "source": [
        "<a href=\"https://colab.research.google.com/github/reinanovazania/reinanovazania/blob/main/test_newton.ipynb\" target=\"_parent\"><img src=\"https://colab.research.google.com/assets/colab-badge.svg\" alt=\"Open In Colab\"/></a>"
      ]
    },
    {
      "cell_type": "code",
      "execution_count": 6,
      "metadata": {
        "colab": {
          "base_uri": "https://localhost:8080/",
          "height": 387
        },
        "id": "2BxBkMCDPbKO",
        "outputId": "d4167218-3328-4cfe-c33e-1644d253925a"
      },
      "outputs": [
        {
          "output_type": "stream",
          "name": "stdout",
          "text": [
            "Iteration 0: x = 1, f(x) = -1.4596976941318602\n",
            "Iteration 1: x = 0.7866397888154096, f(x) =-0.2673205221391448\n",
            "Iteration 2: x = 0.7261709381607133, f(x) =-0.018132645287873284\n",
            "Iteration 3: x = 0.7214340390454733, f(x) =-0.0001059518195203335\n",
            "Iteration 4: x = 0.7214060336500903, f(x) =-3.6893424981698786e-09\n",
            "Iteration 5: x = 0.721406032674848, f(x) =-1.1102230246251565e-16\n"
          ]
        },
        {
          "output_type": "display_data",
          "data": {
            "text/plain": [
              "<Figure size 432x288 with 1 Axes>"
            ],
            "image/png": "[encoded data removed]"
          },
          "metadata": {
            "needs_background": "light"
          }
        }
      ],
      "source": [
        "# Importing Packages\n",
        "import numpy as np\n",
        "import matplotlib.pyplot as plt\n",
        "# Defining Equation and Derivative\n",
        "def f(x):\n",
        "    res = np.cos(x)-2*x**3\n",
        "    return res\n",
        " \n",
        "def dfdx(x):\n",
        "    res = -np.sin(x)-6*x**2\n",
        "    return res\n",
        "# Newton-Raphson Algorithm\n",
        "max_iter = 20  # Max iterations\n",
        "tol = 1E-15  # Tolerance\n",
        "i = 0  # Iteration counter\n",
        "x0 = 1  # Initial guess\n",
        "xi_1 = x0\n",
        "print('Iteration ' + str(i) + ': x = ' + str(x0) + ', f(x) = ' + \n",
        "      str(f(x0)))\n",
        "# Iterating until either the tolerance or max iterations is met\n",
        "while abs(f(xi_1)) > tol or i > max_iter:\n",
        "    i = i + 1\n",
        "    xi = xi_1-f(xi_1)/dfdx(xi_1)  # Newton-Raphson equation\n",
        "    print('Iteration ' + str(i) + ': x = ' + str(xi) + ', f(x) ='  +    \n",
        "          str(f(xi)))\n",
        "    xi_1 = xi\n",
        "\n",
        "# Creating Data for the Line\n",
        "x_plot = np.linspace(-2, 2, 1000)\n",
        "y_plot = f(x_plot)\n",
        " \n",
        "# Plotting Function\n",
        "fig = plt.figure()\n",
        "plt.plot(x_plot, y_plot, c='blue')\n",
        "plt.plot(xi, f(xi), c='red', marker='o', fillstyle='none')\n",
        "plt.xlim([-2, 2])\n",
        "plt.ylim([-2, 2])\n",
        "plt.xlabel('x')\n",
        "plt.ylabel('y')\n",
        "plt.grid()\n",
        "plt.show()\n",
        "\n"
      ]
    }
  ]
}