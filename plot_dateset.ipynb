{
  "nbformat": 4,
  "nbformat_minor": 0,
  "metadata": {
    "colab": {
      "provenance": [],
      "authorship_tag": "ABX9TyNCU12My+oQuHrxIifIHf6C",
      "include_colab_link": true
    },
    "kernelspec": {
      "name": "python3",
      "display_name": "Python 3"
    },
    "language_info": {
      "name": "python"
    }
  },
  "cells": [
    {
      "cell_type": "markdown",
      "metadata": {
        "id": "view-in-github",
        "colab_type": "text"
      },
      "source": [
        "<a href=\"https://colab.research.google.com/github/reinanovazania/reinanovazania/blob/main/plot_dateset.ipynb\" target=\"_parent\"><img src=\"https://colab.research.google.com/assets/colab-badge.svg\" alt=\"Open In Colab\"/></a>"
      ]
    },
    {
      "cell_type": "code",
      "execution_count": 7,
      "metadata": {
        "colab": {
          "base_uri": "https://localhost:8080/",
          "height": 295
        },
        "id": "MkhSK7TBDWQO",
        "outputId": "7fc45f4d-e9ec-4017-d257-d27e8ce3643c"
      },
      "outputs": [
        {
          "output_type": "display_data",
          "data": {
            "text/plain": [
              "<Figure size 432x288 with 1 Axes>"
            ],
            "image/png": "[encoded data removed]"
          },
          "metadata": {
            "needs_background": "light"
          }
        }
      ],
      "source": [
        "import numpy as np # numpy is for vector and mathematics operations\n",
        "import matplotlib.pyplot as plt # matplotlib is for plotting\n",
        "from sklearn.datasets import make_regression # scikitlearn is for machine learning related tools\n",
        "# Create data set.\n",
        "n = 100 # The number of data sets\n",
        "X = 2 * np.random.rand(n, 1) # Generate n x 1 random variable according to uniform distribution (0,1)\n",
        "y = 4 + 3 * X + np.random.randn(n, 1) # Plot y added by Gaussian noise with mean 0 and variance 1 \n",
        "\n",
        "\n",
        "# Plot the generated data set.\n",
        "plt.plot(X,y,'b.') # Plot X and Y\n",
        "plt.xlabel(\"Input\") # Give label X-axis\n",
        "plt.ylabel(\"Output\") # Give label Y-axis\n",
        "plt.title('Data with Noise') # Give title\n",
        "plt.show() # show the plot\n",
        "\n"
      ]
    }
  ]
}